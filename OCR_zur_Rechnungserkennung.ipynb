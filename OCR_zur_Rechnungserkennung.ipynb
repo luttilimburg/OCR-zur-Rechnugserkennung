{
  "nbformat": 4,
  "nbformat_minor": 0,
  "metadata": {
    "colab": {
      "name": "OCR zur Rechnungserkennung.ipynb",
      "provenance": [],
      "collapsed_sections": []
    },
    "kernelspec": {
      "name": "python3",
      "display_name": "Python 3"
    },
    "language_info": {
      "name": "python"
    }
  },
  "cells": [
    {
      "cell_type": "markdown",
      "source": [
        "# OCR "
      ],
      "metadata": {
        "id": "p4VUSylAxviX"
      }
    },
    {
      "cell_type": "markdown",
      "source": [
        "Diese Skript demonstriert wie anhand einer eingescannten Beispielrechnung mittels OCR die nur für den Förderbankengenehmigungsprozess relveanten Details ausgelesen werden können und mit digitalen Angaben aus z.B einer Datenbank abgeglichen werden können."
      ],
      "metadata": {
        "id": "WuGdnyUW76ga"
      }
    },
    {
      "cell_type": "code",
      "execution_count": null,
      "metadata": {
        "colab": {
          "base_uri": "https://localhost:8080/"
        },
        "id": "hkmv3mtGy88C",
        "outputId": "d3aa64bf-fd86-48af-acb4-9dc598ccca21"
      },
      "outputs": [
        {
          "output_type": "stream",
          "name": "stdout",
          "text": [
            "Requirement already satisfied: torch in /usr/local/lib/python3.7/dist-packages (1.10.0+cu111)\n",
            "Requirement already satisfied: torchvision in /usr/local/lib/python3.7/dist-packages (0.11.1+cu111)\n",
            "Requirement already satisfied: torchaudio in /usr/local/lib/python3.7/dist-packages (0.10.0+cu111)\n",
            "Requirement already satisfied: typing-extensions in /usr/local/lib/python3.7/dist-packages (from torch) (3.10.0.2)\n",
            "Requirement already satisfied: numpy in /usr/local/lib/python3.7/dist-packages (from torchvision) (1.21.5)\n",
            "Requirement already satisfied: pillow!=8.3.0,>=5.3.0 in /usr/local/lib/python3.7/dist-packages (from torchvision) (7.1.2)\n",
            "Collecting easyocr\n",
            "  Downloading easyocr-1.4.1-py3-none-any.whl (63.6 MB)\n",
            "\u001b[K     |████████████████████████████████| 63.6 MB 56 kB/s \n",
            "\u001b[?25hRequirement already satisfied: torchvision>=0.5 in /usr/local/lib/python3.7/dist-packages (from easyocr) (0.11.1+cu111)\n",
            "Requirement already satisfied: numpy in /usr/local/lib/python3.7/dist-packages (from easyocr) (1.21.5)\n",
            "Collecting python-bidi\n",
            "  Downloading python_bidi-0.4.2-py2.py3-none-any.whl (30 kB)\n",
            "Collecting opencv-python-headless\n",
            "  Downloading opencv_python_headless-4.5.5.64-cp36-abi3-manylinux_2_17_x86_64.manylinux2014_x86_64.whl (47.8 MB)\n",
            "\u001b[K     |████████████████████████████████| 47.8 MB 90 kB/s \n",
            "\u001b[?25hRequirement already satisfied: PyYAML in /usr/local/lib/python3.7/dist-packages (from easyocr) (3.13)\n",
            "Requirement already satisfied: scikit-image in /usr/local/lib/python3.7/dist-packages (from easyocr) (0.18.3)\n",
            "Requirement already satisfied: scipy in /usr/local/lib/python3.7/dist-packages (from easyocr) (1.4.1)\n",
            "Requirement already satisfied: torch in /usr/local/lib/python3.7/dist-packages (from easyocr) (1.10.0+cu111)\n",
            "Requirement already satisfied: Pillow<8.3.0 in /usr/local/lib/python3.7/dist-packages (from easyocr) (7.1.2)\n",
            "Requirement already satisfied: typing-extensions in /usr/local/lib/python3.7/dist-packages (from torch->easyocr) (3.10.0.2)\n",
            "Requirement already satisfied: six in /usr/local/lib/python3.7/dist-packages (from python-bidi->easyocr) (1.15.0)\n",
            "Requirement already satisfied: networkx>=2.0 in /usr/local/lib/python3.7/dist-packages (from scikit-image->easyocr) (2.6.3)\n",
            "Requirement already satisfied: tifffile>=2019.7.26 in /usr/local/lib/python3.7/dist-packages (from scikit-image->easyocr) (2021.11.2)\n",
            "Requirement already satisfied: matplotlib!=3.0.0,>=2.0.0 in /usr/local/lib/python3.7/dist-packages (from scikit-image->easyocr) (3.2.2)\n",
            "Requirement already satisfied: imageio>=2.3.0 in /usr/local/lib/python3.7/dist-packages (from scikit-image->easyocr) (2.4.1)\n",
            "Requirement already satisfied: PyWavelets>=1.1.1 in /usr/local/lib/python3.7/dist-packages (from scikit-image->easyocr) (1.3.0)\n",
            "Requirement already satisfied: python-dateutil>=2.1 in /usr/local/lib/python3.7/dist-packages (from matplotlib!=3.0.0,>=2.0.0->scikit-image->easyocr) (2.8.2)\n",
            "Requirement already satisfied: pyparsing!=2.0.4,!=2.1.2,!=2.1.6,>=2.0.1 in /usr/local/lib/python3.7/dist-packages (from matplotlib!=3.0.0,>=2.0.0->scikit-image->easyocr) (3.0.7)\n",
            "Requirement already satisfied: cycler>=0.10 in /usr/local/lib/python3.7/dist-packages (from matplotlib!=3.0.0,>=2.0.0->scikit-image->easyocr) (0.11.0)\n",
            "Requirement already satisfied: kiwisolver>=1.0.1 in /usr/local/lib/python3.7/dist-packages (from matplotlib!=3.0.0,>=2.0.0->scikit-image->easyocr) (1.4.0)\n",
            "Installing collected packages: python-bidi, opencv-python-headless, easyocr\n",
            "Successfully installed easyocr-1.4.1 opencv-python-headless-4.5.5.64 python-bidi-0.4.2\n",
            "Collecting opencv-python-headless<4.3\n",
            "  Downloading opencv_python_headless-4.2.0.34-cp37-cp37m-manylinux1_x86_64.whl (21.6 MB)\n",
            "\u001b[K     |████████████████████████████████| 21.6 MB 1.4 MB/s \n",
            "\u001b[?25hRequirement already satisfied: numpy>=1.14.5 in /usr/local/lib/python3.7/dist-packages (from opencv-python-headless<4.3) (1.21.5)\n",
            "Installing collected packages: opencv-python-headless\n",
            "  Attempting uninstall: opencv-python-headless\n",
            "    Found existing installation: opencv-python-headless 4.5.5.64\n",
            "    Uninstalling opencv-python-headless-4.5.5.64:\n",
            "      Successfully uninstalled opencv-python-headless-4.5.5.64\n",
            "Successfully installed opencv-python-headless-4.2.0.34\n",
            "Requirement already satisfied: pandas in /usr/local/lib/python3.7/dist-packages (1.3.5)\n",
            "Requirement already satisfied: python-dateutil>=2.7.3 in /usr/local/lib/python3.7/dist-packages (from pandas) (2.8.2)\n",
            "Requirement already satisfied: pytz>=2017.3 in /usr/local/lib/python3.7/dist-packages (from pandas) (2018.9)\n",
            "Requirement already satisfied: numpy>=1.17.3 in /usr/local/lib/python3.7/dist-packages (from pandas) (1.21.5)\n",
            "Requirement already satisfied: six>=1.5 in /usr/local/lib/python3.7/dist-packages (from python-dateutil>=2.7.3->pandas) (1.15.0)\n"
          ]
        }
      ],
      "source": [
        "#Wir installieren die nötigen Pakete \n",
        "\n",
        "!pip install torch torchvision torchaudio  \n",
        "!pip install easyocr\n",
        "!pip install \"opencv-python-headless<4.3\"\n",
        "!pip install pandas"
      ]
    },
    {
      "cell_type": "code",
      "source": [
        "#und importieren sie\n",
        "\n",
        "\n",
        "import easyocr\n",
        "import cv2\n",
        "from matplotlib import pyplot as plt\n",
        "import numpy as np\n",
        "import pandas as pd\n",
        "import matplotlib.pyplot as plt\n",
        "import matplotlib.image as mpimg"
      ],
      "metadata": {
        "id": "bu1e_eIWzGh5"
      },
      "execution_count": null,
      "outputs": []
    },
    {
      "cell_type": "code",
      "source": [
        "#Wir bilden die Rechnung die wir auslesen möchten ab und definieren den Dateipfad des Photos.\n",
        "\n",
        "\n",
        "img = mpimg.imread('/content/1Beispielrechnung.jpg')\n",
        "imgplot = plt.imshow(img)\n",
        "plt.show()"
      ],
      "metadata": {
        "colab": {
          "base_uri": "https://localhost:8080/",
          "height": 269
        },
        "id": "DkssQyPgzLel",
        "outputId": "5ae69dd7-0564-48a2-b601-42ea6e65451b"
      },
      "execution_count": null,
      "outputs": [
        {
          "output_type": "display_data",
          "data": {
            "text/plain": [
              "<Figure size 432x288 with 1 Axes>"
            ],
            "image/png": "[encoded data removed]"
          },
          "metadata": {
            "needs_background": "light"
          }
        }
      ]
    },
    {
      "cell_type": "code",
      "source": [
        "#Wir lesen die Rechnung mit dem OCR Easy OCR Paket aus. \n",
        "\n",
        "array = easyocr.Reader(['de'], gpu=True)\n",
        "array = array.readtext(img, detail=0)\n",
        "array #und drucken diese"
      ],
      "metadata": {
        "colab": {
          "base_uri": "https://localhost:8080/"
        },
        "id": "bhT9ecpvzfP2",
        "outputId": "3ea8a38c-e63f-483f-f224-1114f9106fbf"
      },
      "execution_count": null,
      "outputs": [
        {
          "output_type": "stream",
          "name": "stderr",
          "text": [
            "CUDA not available - defaulting to CPU. Note: This module is much faster with a GPU.\n"
          ]
        },
        {
          "output_type": "execute_result",
          "data": {
            "text/plain": [
              "['sevDesk',\n",
              " 'sevDesk GmbH',\n",
              " 'Hauptstraße 115',\n",
              " '=',\n",
              " '77652 Offenburg',\n",
              " 'Rechnung Nr.',\n",
              " '1001',\n",
              " 'Rechnungsdatum',\n",
              " '25.02.2018',\n",
              " 'Mustermann KG',\n",
              " 'Lieferdatum',\n",
              " '25.02.2018',\n",
              " 'Musterstr. 1',\n",
              " 'Ihre Kundennummer',\n",
              " '4227',\n",
              " '22222 Musterstadt',\n",
              " 'Ihr Ansprechpartner',\n",
              " 'Fabian Silberer',\n",
              " '25.02.2018',\n",
              " 'Rechnung Nr. 1001',\n",
              " 'Vielen Dank für Ihr Vertrauen in die Mustermann KG. Wir stellen Ihnen hiermit folgende Leistungen in Rechnung:',\n",
              " 'Pos.',\n",
              " 'Bezeichnung',\n",
              " 'Menge',\n",
              " 'Einzelpreis',\n",
              " 'Gesamtpreis',\n",
              " '1',\n",
              " 'Backstein 3Oxl0xlO cm',\n",
              " '5,00 Stk',\n",
              " '8,00 €',\n",
              " '40,00 €',\n",
              " '2',\n",
              " 'Dämmwolle 8Ox50x10 cm',\n",
              " '10,00 Stk',\n",
              " '47,00 €',\n",
              " '470,00 €',\n",
              " 'Summe Positionen',\n",
              " '510,00 €',\n",
              " 'zzgl. Umsatzsteuer 19%',\n",
              " '96,90 €',\n",
              " 'Rechnungsbetrag',\n",
              " '606,90 €',\n",
              " 'Zahlungsbedingungen: Zahlung innerhalb von 14 Tagen ab Rechnungseingang ohne Abzüge:',\n",
              " 'Mit freundlichen Grüßen',\n",
              " 'Fabian Silberer',\n",
              " 'sevDesk GmbH',\n",
              " 'Musterbank',\n",
              " 'USt.-ID: 0815',\n",
              " 'Hauptstraße 115',\n",
              " 'IBAN DE 85 12345678 0123456789',\n",
              " 'Geschäftsführer:',\n",
              " '77653 Offenburg',\n",
              " 'BIC PBNKDEFF',\n",
              " 'Max Mustermann',\n",
              " 'Deutschland',\n",
              " 'Tel: (+49) 7821',\n",
              " '549370 - 0',\n",
              " 'E-Mail: info@sevenitde']"
            ]
          },
          "metadata": {},
          "execution_count": 131
        }
      ]
    },
    {
      "cell_type": "code",
      "source": [
        "array = ['sevDesk',   #wir legen den Output des OCR nochmal seperat an , damit wir die Rechnung nicht immer wieder seerat auslesen müssen\n",
        " 'sevDesk GmbH',\n",
        " 'Hauptstraße 115',\n",
        " '=',\n",
        " '77652 Offenburg',\n",
        " 'Rechnung Nr.',\n",
        " '1001',\n",
        " 'Rechnungsdatum',\n",
        " '25.02.2018',\n",
        " 'Mustermann KG',\n",
        " 'Lieferdatum',\n",
        " '25.02.2018',\n",
        " 'Musterstr. 1',\n",
        " 'Ihre Kundennummer',\n",
        " '4227',\n",
        " '22222 Musterstadt',\n",
        " 'Ihr Ansprechpartner',\n",
        " 'Fabian Silberer',\n",
        " '25.02.2018',\n",
        " 'Rechnung Nr. 1001',\n",
        " 'Vielen Dank für Ihr Vertrauen in die Mustermann KG. Wir stellen Ihnen hiermit folgende Leistungen in Rechnung:',\n",
        " 'Pos.',\n",
        " 'Bezeichnung',\n",
        " 'Menge',\n",
        " 'Einzelpreis',\n",
        " 'Gesamtpreis',\n",
        " '1',\n",
        " 'Backstein 3Oxl0xlO cm',\n",
        " '5,00 Stk',\n",
        " '8,00 €',\n",
        " '40,00 €',\n",
        " '2',\n",
        " 'Dämmwolle 8Ox50x10 cm',\n",
        " '10,00 Stk',\n",
        " '47,00 €',\n",
        " '470,00 €',\n",
        " 'Summe Positionen',\n",
        " '510,00 €',\n",
        " 'zzgl. Umsatzsteuer 19%',\n",
        " '96,90 €',\n",
        " 'Rechnungsbetrag',\n",
        " '606,90 €',\n",
        " 'Zahlungsbedingungen: Zahlung innerhalb von 14 Tagen ab Rechnungseingang ohne Abzüge:',\n",
        " 'Mit freundlichen Grüßen',\n",
        " 'Fabian Silberer',\n",
        " 'sevDesk GmbH',\n",
        " 'Musterbank',\n",
        " 'USt.-ID: 0815',\n",
        " 'Hauptstraße 115',\n",
        " 'IBAN DE 85 12345678 0123456789',\n",
        " 'Geschäftsführer:',\n",
        " '77653 Offenburg',\n",
        " 'BIC PBNKDEFF',\n",
        " 'Max Mustermann',\n",
        " 'Deutschland',\n",
        " 'Tel: (+49) 7821',\n",
        " '549370 - 0',\n",
        " 'E-Mail: info@sevenitde']"
      ],
      "metadata": {
        "id": "0xMxXmt9mfZq"
      },
      "execution_count": null,
      "outputs": []
    },
    {
      "cell_type": "markdown",
      "source": [
        "# Validierung"
      ],
      "metadata": {
        "id": "CoyhVXn7x1Up"
      }
    },
    {
      "cell_type": "markdown",
      "source": [
        "Der Algorithm liest nun die Liste nach relevanten Elementen aus. Dafür  loopen wir durch die Liste und sobald wir auf das Wort \"Bezeichnung, Produkt, Titel oder Beschreibung treffen fangen wir an dieses und jedes Wort was dannach kommmt herauszufiltern bis wir auf das Wort Summe Positionen, Zw. Summe, Summe Netto oder Summe Nettoberträge treffen. Bei einem dieser Wörter beenden Wir dann den Filterungsprozess"
      ],
      "metadata": {
        "id": "hWO4SB0A4QHF"
      }
    },
    {
      "cell_type": "code",
      "source": [
        "\n",
        "good_indices = [index for index, item in enumerate(\n",
        "    array) if item == '1' or item =='2'or item == 'Bezeichnung.' or item == \"Produkt\" or item == \"Bezeichnung\" or item == \"Titel\" or item == \"Beschreibung\" or item == \"Summe Positionen\" or item == \"Zw. summe\" or item == \"Summe netto\" or item == \"Summe Nettobetröge\"]\n",
        "\n",
        "items_to_save = []\n",
        "\n",
        "for index, item in enumerate(array):\n",
        "    if index >= min(good_indices) and index <= max(good_indices):\n",
        "        items_to_save.append(item)\n",
        "\n",
        "print(items_to_save)"
      ],
      "metadata": {
        "colab": {
          "base_uri": "https://localhost:8080/"
        },
        "id": "0SpRPxZt0PXR",
        "outputId": "34154ea6-5076-4db0-cffb-f1239d1ff523"
      },
      "execution_count": null,
      "outputs": [
        {
          "output_type": "stream",
          "name": "stdout",
          "text": [
            "['Bezeichnung', 'Menge', 'Einzelpreis', 'Gesamtpreis', '1', 'Backstein 3Oxl0xlO cm', '5,00 Stk', '8,00 €', '40,00 €', '2', 'Dämmwolle 8Ox50x10 cm', '10,00 Stk', '47,00 €', '470,00 €', 'Summe Positionen']\n"
          ]
        }
      ]
    },
    {
      "cell_type": "markdown",
      "source": [
        "Wir werden jetzt folgenden Versuch unternehmen. Wir wollen die gefilterte Liste in einen Dataframe konvertieren. Dafür sagen wir dass Wörter die einem von mehreren String entsprechen die Spalten des Datframes bilden. Die Wörter die dann übrig bleiben werden die Reihen befüllen je nach Position."
      ],
      "metadata": {
        "id": "zu4aQH7d5pAx"
      }
    },
    {
      "cell_type": "code",
      "source": [
        "df = pd.DataFrame() #wir erstellen eine Datenframe, wo unsere Liste später reinkommt"
      ],
      "metadata": {
        "id": "aHO-78st62ij"
      },
      "execution_count": null,
      "outputs": []
    },
    {
      "cell_type": "code",
      "source": [
        "if [x for x in items_to_save if x in ['Bezeichnung','Artikel','BEZEICHNUNG','ARTIKEL','Produkt','PRODUKT']]:\n",
        "  df['Beschreibung'] = 'nn' and items_to_save.remove(\"Bezeichnung\" or \"Artikel\" or \"BEZEICHNUNG\" or \"ARTIKEL\" or \"Produkt\" or \"PRODUKT\")\n",
        "else: \n",
        "  pass   #if our list contains one of these words we create an equivalent colument in a new df and delelte the corresponding word from the list \n",
        "if [x for x in items_to_save if x in ['Menge','Anzahl','MENGE','ANZAHL']]:\n",
        "  df['Menge'] = 'nn' and items_to_save.remove(\"Menge\" or \"MENGE\" or \"Anzahl\" or \"ANZAHL\")\n",
        "else: \n",
        "  pass\n",
        "if [x for x in items_to_save if x in ['Einzelpreis','EINZELPREIS']]:\n",
        "  df['Einzelpreis'] = 'nn' and items_to_save.remove(\"Einzelpreis\" or \"EINZELPREIS\")\n",
        "else: \n",
        "  pass\n",
        "if [x for x in items_to_save if x in ['Gesamtpreis','Gesamtpreis']]:\n",
        "  df['Gesamtpreis'] = 'nn' and items_to_save.remove(\"Gesamtpreis\" or \"Gesamtpreis\")\n",
        "else: \n",
        "  pass"
      ],
      "metadata": {
        "id": "SYk-5QEprXVs"
      },
      "execution_count": null,
      "outputs": []
    },
    {
      "cell_type": "code",
      "source": [
        "df"
      ],
      "metadata": {
        "colab": {
          "base_uri": "https://localhost:8080/",
          "height": 49
        },
        "id": "mmjjZEvg64MB",
        "outputId": "5d885e04-3a9e-4e6e-a6fe-e4f29e55808b"
      },
      "execution_count": null,
      "outputs": [
        {
          "output_type": "execute_result",
          "data": {
            "text/plain": [
              "Empty DataFrame\n",
              "Columns: [Beschreibung, Menge, Einzelpreis, Gesamtpreis]\n",
              "Index: []"
            ],
            "text/html": [
              "\n",
              "  <div id=\"df-c15f231c-a226-4f33-81f9-1ade624452e9\">\n",
              "    <div class=\"colab-df-container\">\n",
              "      <div>\n",
              "<style scoped>\n",
              "    .dataframe tbody tr th:only-of-type {\n",
              "        vertical-align: middle;\n",
              "    }\n",
              "\n",
              "    .dataframe tbody tr th {\n",
              "        vertical-align: top;\n",
              "    }\n",
              "\n",
              "    .dataframe thead th {\n",
              "        text-align: right;\n",
              "    }\n",
              "</style>\n",
              "<table border=\"1\" class=\"dataframe\">\n",
              "  <thead>\n",
              "    <tr style=\"text-align: right;\">\n",
              "      <th></th>\n",
              "      <th>Beschreibung</th>\n",
              "      <th>Menge</th>\n",
              "      <th>Einzelpreis</th>\n",
              "      <th>Gesamtpreis</th>\n",
              "    </tr>\n",
              "  </thead>\n",
              "  <tbody>\n",
              "  </tbody>\n",
              "</table>\n",
              "</div>\n",
              "      <button class=\"colab-df-convert\" onclick=\"convertToInteractive('df-c15f231c-a226-4f33-81f9-1ade624452e9')\"\n",
              "              title=\"Convert this dataframe to an interactive table.\"\n",
              "              style=\"display:none;\">\n",
              "        \n",
              "  <svg xmlns=\"http://www.w3.org/2000/svg\" height=\"24px\"viewBox=\"0 0 24 24\"\n",
              "       width=\"24px\">\n",
              "    <path d=\"M0 0h24v24H0V0z\" fill=\"none\"/>\n",
              "    <path d=\"M18.56 5.44l.94 2.06.94-2.06 2.06-.94-2.06-.94-.94-2.06-.94 2.06-2.06.94zm-11 1L8.5 8.5l.94-2.06 2.06-.94-2.06-.94L8.5 2.5l-.94 2.06-2.06.94zm10 10l.94 2.06.94-2.06 2.06-.94-2.06-.94-.94-2.06-.94 2.06-2.06.94z\"/><path d=\"M17.41 7.96l-1.37-1.37c-.4-.4-.92-.59-1.43-.59-.52 0-1.04.2-1.43.59L10.3 9.45l-7.72 7.72c-.78.78-.78 2.05 0 2.83L4 21.41c.39.39.9.59 1.41.59.51 0 1.02-.2 1.41-.59l7.78-7.78 2.81-2.81c.8-.78.8-2.07 0-2.86zM5.41 20L4 18.59l7.72-7.72 1.47 1.35L5.41 20z\"/>\n",
              "  </svg>\n",
              "      </button>\n",
              "      \n",
              "  <style>\n",
              "    .colab-df-container {\n",
              "      display:flex;\n",
              "      flex-wrap:wrap;\n",
              "      gap: 12px;\n",
              "    }\n",
              "\n",
              "    .colab-df-convert {\n",
              "      background-color: #E8F0FE;\n",
              "      border: none;\n",
              "      border-radius: 50%;\n",
              "      cursor: pointer;\n",
              "      display: none;\n",
              "      fill: #1967D2;\n",
              "      height: 32px;\n",
              "      padding: 0 0 0 0;\n",
              "      width: 32px;\n",
              "    }\n",
              "\n",
              "    .colab-df-convert:hover {\n",
              "      background-color: #E2EBFA;\n",
              "      box-shadow: 0px 1px 2px rgba(60, 64, 67, 0.3), 0px 1px 3px 1px rgba(60, 64, 67, 0.15);\n",
              "      fill: #174EA6;\n",
              "    }\n",
              "\n",
              "    [theme=dark] .colab-df-convert {\n",
              "      background-color: #3B4455;\n",
              "      fill: #D2E3FC;\n",
              "    }\n",
              "\n",
              "    [theme=dark] .colab-df-convert:hover {\n",
              "      background-color: #434B5C;\n",
              "      box-shadow: 0px 1px 3px 1px rgba(0, 0, 0, 0.15);\n",
              "      filter: drop-shadow(0px 1px 2px rgba(0, 0, 0, 0.3));\n",
              "      fill: #FFFFFF;\n",
              "    }\n",
              "  </style>\n",
              "\n",
              "      <script>\n",
              "        const buttonEl =\n",
              "          document.querySelector('#df-c15f231c-a226-4f33-81f9-1ade624452e9 button.colab-df-convert');\n",
              "        buttonEl.style.display =\n",
              "          google.colab.kernel.accessAllowed ? 'block' : 'none';\n",
              "\n",
              "        async function convertToInteractive(key) {\n",
              "          const element = document.querySelector('#df-c15f231c-a226-4f33-81f9-1ade624452e9');\n",
              "          const dataTable =\n",
              "            await google.colab.kernel.invokeFunction('convertToInteractive',\n",
              "                                                     [key], {});\n",
              "          if (!dataTable) return;\n",
              "\n",
              "          const docLinkHtml = 'Like what you see? Visit the ' +\n",
              "            '<a target=\"_blank\" href=https://colab.research.google.com/notebooks/data_table.ipynb>data table notebook</a>'\n",
              "            + ' to learn more about interactive tables.';\n",
              "          element.innerHTML = '';\n",
              "          dataTable['output_type'] = 'display_data';\n",
              "          await google.colab.output.renderOutput(dataTable, element);\n",
              "          const docLink = document.createElement('div');\n",
              "          docLink.innerHTML = docLinkHtml;\n",
              "          element.appendChild(docLink);\n",
              "        }\n",
              "      </script>\n",
              "    </div>\n",
              "  </div>\n",
              "  "
            ]
          },
          "metadata": {},
          "execution_count": 136
        }
      ]
    },
    {
      "cell_type": "code",
      "source": [
        "items_to_save"
      ],
      "metadata": {
        "colab": {
          "base_uri": "https://localhost:8080/"
        },
        "id": "i2NU657ahR6d",
        "outputId": "770d192c-ab1a-4beb-abac-d1327dd970b5"
      },
      "execution_count": null,
      "outputs": [
        {
          "output_type": "execute_result",
          "data": {
            "text/plain": [
              "['1',\n",
              " 'Backstein 3Oxl0xlO cm',\n",
              " '5,00 Stk',\n",
              " '8,00 €',\n",
              " '40,00 €',\n",
              " '2',\n",
              " 'Dämmwolle 8Ox50x10 cm',\n",
              " '10,00 Stk',\n",
              " '47,00 €',\n",
              " '470,00 €',\n",
              " 'Summe Positionen']"
            ]
          },
          "metadata": {},
          "execution_count": 137
        }
      ]
    },
    {
      "cell_type": "code",
      "source": [
        "#hier müssen wir tricksen da noch strings in der liste sind, die wir nicht brauchen. Diese entfernen wir jetzt individuell von der liste\n",
        "\n",
        "items_to_save.remove(\"1\")\n",
        "items_to_save.remove(\"2\")\n",
        "items_to_save.remove(\"Summe Positionen\")\n",
        "items_to_save"
      ],
      "metadata": {
        "colab": {
          "base_uri": "https://localhost:8080/"
        },
        "id": "uPT5CrPyihza",
        "outputId": "df88d147-e6b2-4ebf-fae4-94781586cf47"
      },
      "execution_count": null,
      "outputs": [
        {
          "output_type": "execute_result",
          "data": {
            "text/plain": [
              "['Backstein 3Oxl0xlO cm',\n",
              " '5,00 Stk',\n",
              " '8,00 €',\n",
              " '40,00 €',\n",
              " 'Dämmwolle 8Ox50x10 cm',\n",
              " '10,00 Stk',\n",
              " '47,00 €',\n",
              " '470,00 €']"
            ]
          },
          "metadata": {},
          "execution_count": 138
        }
      ]
    },
    {
      "cell_type": "markdown",
      "source": [
        "Um die Liste nun mit unsere Dataframe zu verbinden, müssen wir unsere Liste zunächst in zwei Unterlisten mit der gleichen Anzahl an Elementen pro Unterliste wie Spalten in unserem DF aufteilen"
      ],
      "metadata": {
        "id": "SD1I1HUrjcF4"
      }
    },
    {
      "cell_type": "code",
      "source": [
        "len(df.columns)\n",
        "\n",
        "result_list = []\n",
        "new_list = []\n",
        "my_columns = len(df.columns)\n",
        "for i, elem in enumerate(items_to_save):\n",
        "    if i % my_columns != 0:\n",
        "        new_list.append(elem)\n",
        "    else:\n",
        "        new_list = []\n",
        "        new_list.append(elem)\n",
        "        result_list.append(new_list)\n",
        "print(result_list)"
      ],
      "metadata": {
        "colab": {
          "base_uri": "https://localhost:8080/"
        },
        "id": "eJe0YzVBimI8",
        "outputId": "b632393d-cadd-48c8-b432-b946a805e8fe"
      },
      "execution_count": null,
      "outputs": [
        {
          "output_type": "stream",
          "name": "stdout",
          "text": [
            "[['Backstein 3Oxl0xlO cm', '5,00 Stk', '8,00 €', '40,00 €'], ['Dämmwolle 8Ox50x10 cm', '10,00 Stk', '47,00 €', '470,00 €']]\n"
          ]
        }
      ]
    },
    {
      "cell_type": "code",
      "source": [
        "df = df.append(pd.DataFrame(result_list, columns=df.columns), ignore_index=True)\n",
        "df"
      ],
      "metadata": {
        "colab": {
          "base_uri": "https://localhost:8080/",
          "height": 112
        },
        "id": "r6naB2kljukK",
        "outputId": "59a2cda9-d029-4c16-affb-f051f981c4d2"
      },
      "execution_count": null,
      "outputs": [
        {
          "output_type": "execute_result",
          "data": {
            "text/plain": [
              "            Beschreibung      Menge Einzelpreis Gesamtpreis\n",
              "0  Backstein 3Oxl0xlO cm   5,00 Stk      8,00 €     40,00 €\n",
              "1  Dämmwolle 8Ox50x10 cm  10,00 Stk     47,00 €    470,00 €"
            ],
            "text/html": [
              "\n",
              "  <div id=\"df-55c3f5eb-77c0-4bf1-aa51-e19efe30711a\">\n",
              "    <div class=\"colab-df-container\">\n",
              "      <div>\n",
              "<style scoped>\n",
              "    .dataframe tbody tr th:only-of-type {\n",
              "        vertical-align: middle;\n",
              "    }\n",
              "\n",
              "    .dataframe tbody tr th {\n",
              "        vertical-align: top;\n",
              "    }\n",
              "\n",
              "    .dataframe thead th {\n",
              "        text-align: right;\n",
              "    }\n",
              "</style>\n",
              "<table border=\"1\" class=\"dataframe\">\n",
              "  <thead>\n",
              "    <tr style=\"text-align: right;\">\n",
              "      <th></th>\n",
              "      <th>Beschreibung</th>\n",
              "      <th>Menge</th>\n",
              "      <th>Einzelpreis</th>\n",
              "      <th>Gesamtpreis</th>\n",
              "    </tr>\n",
              "  </thead>\n",
              "  <tbody>\n",
              "    <tr>\n",
              "      <th>0</th>\n",
              "      <td>Backstein 3Oxl0xlO cm</td>\n",
              "      <td>5,00 Stk</td>\n",
              "      <td>8,00 €</td>\n",
              "      <td>40,00 €</td>\n",
              "    </tr>\n",
              "    <tr>\n",
              "      <th>1</th>\n",
              "      <td>Dämmwolle 8Ox50x10 cm</td>\n",
              "      <td>10,00 Stk</td>\n",
              "      <td>47,00 €</td>\n",
              "      <td>470,00 €</td>\n",
              "    </tr>\n",
              "  </tbody>\n",
              "</table>\n",
              "</div>\n",
              "      <button class=\"colab-df-convert\" onclick=\"convertToInteractive('df-55c3f5eb-77c0-4bf1-aa51-e19efe30711a')\"\n",
              "              title=\"Convert this dataframe to an interactive table.\"\n",
              "              style=\"display:none;\">\n",
              "        \n",
              "  <svg xmlns=\"http://www.w3.org/2000/svg\" height=\"24px\"viewBox=\"0 0 24 24\"\n",
              "       width=\"24px\">\n",
              "    <path d=\"M0 0h24v24H0V0z\" fill=\"none\"/>\n",
              "    <path d=\"M18.56 5.44l.94 2.06.94-2.06 2.06-.94-2.06-.94-.94-2.06-.94 2.06-2.06.94zm-11 1L8.5 8.5l.94-2.06 2.06-.94-2.06-.94L8.5 2.5l-.94 2.06-2.06.94zm10 10l.94 2.06.94-2.06 2.06-.94-2.06-.94-.94-2.06-.94 2.06-2.06.94z\"/><path d=\"M17.41 7.96l-1.37-1.37c-.4-.4-.92-.59-1.43-.59-.52 0-1.04.2-1.43.59L10.3 9.45l-7.72 7.72c-.78.78-.78 2.05 0 2.83L4 21.41c.39.39.9.59 1.41.59.51 0 1.02-.2 1.41-.59l7.78-7.78 2.81-2.81c.8-.78.8-2.07 0-2.86zM5.41 20L4 18.59l7.72-7.72 1.47 1.35L5.41 20z\"/>\n",
              "  </svg>\n",
              "      </button>\n",
              "      \n",
              "  <style>\n",
              "    .colab-df-container {\n",
              "      display:flex;\n",
              "      flex-wrap:wrap;\n",
              "      gap: 12px;\n",
              "    }\n",
              "\n",
              "    .colab-df-convert {\n",
              "      background-color: #E8F0FE;\n",
              "      border: none;\n",
              "      border-radius: 50%;\n",
              "      cursor: pointer;\n",
              "      display: none;\n",
              "      fill: #1967D2;\n",
              "      height: 32px;\n",
              "      padding: 0 0 0 0;\n",
              "      width: 32px;\n",
              "    }\n",
              "\n",
              "    .colab-df-convert:hover {\n",
              "      background-color: #E2EBFA;\n",
              "      box-shadow: 0px 1px 2px rgba(60, 64, 67, 0.3), 0px 1px 3px 1px rgba(60, 64, 67, 0.15);\n",
              "      fill: #174EA6;\n",
              "    }\n",
              "\n",
              "    [theme=dark] .colab-df-convert {\n",
              "      background-color: #3B4455;\n",
              "      fill: #D2E3FC;\n",
              "    }\n",
              "\n",
              "    [theme=dark] .colab-df-convert:hover {\n",
              "      background-color: #434B5C;\n",
              "      box-shadow: 0px 1px 3px 1px rgba(0, 0, 0, 0.15);\n",
              "      filter: drop-shadow(0px 1px 2px rgba(0, 0, 0, 0.3));\n",
              "      fill: #FFFFFF;\n",
              "    }\n",
              "  </style>\n",
              "\n",
              "      <script>\n",
              "        const buttonEl =\n",
              "          document.querySelector('#df-55c3f5eb-77c0-4bf1-aa51-e19efe30711a button.colab-df-convert');\n",
              "        buttonEl.style.display =\n",
              "          google.colab.kernel.accessAllowed ? 'block' : 'none';\n",
              "\n",
              "        async function convertToInteractive(key) {\n",
              "          const element = document.querySelector('#df-55c3f5eb-77c0-4bf1-aa51-e19efe30711a');\n",
              "          const dataTable =\n",
              "            await google.colab.kernel.invokeFunction('convertToInteractive',\n",
              "                                                     [key], {});\n",
              "          if (!dataTable) return;\n",
              "\n",
              "          const docLinkHtml = 'Like what you see? Visit the ' +\n",
              "            '<a target=\"_blank\" href=https://colab.research.google.com/notebooks/data_table.ipynb>data table notebook</a>'\n",
              "            + ' to learn more about interactive tables.';\n",
              "          element.innerHTML = '';\n",
              "          dataTable['output_type'] = 'display_data';\n",
              "          await google.colab.output.renderOutput(dataTable, element);\n",
              "          const docLink = document.createElement('div');\n",
              "          docLink.innerHTML = docLinkHtml;\n",
              "          element.appendChild(docLink);\n",
              "        }\n",
              "      </script>\n",
              "    </div>\n",
              "  </div>\n",
              "  "
            ]
          },
          "metadata": {},
          "execution_count": 140
        }
      ]
    },
    {
      "cell_type": "markdown",
      "source": [
        "Jetzt erstellen wir einen zweiten Df der die Angaben im Portal simulieren sollen, welche wir dann mit unseren ausgelesenen Rechnungselementen abgleichen."
      ],
      "metadata": {
        "id": "VQqENaK5l4Oq"
      }
    },
    {
      "cell_type": "code",
      "source": [
        "# assign data of lists.  \n",
        "data = {'Beschreibung': ['Backstein 30x10x10cm', 'Dämmwolle 80x50x10cm'], 'Menge': ['5,00 Stk','10,00 Stk'], 'Einzelpreis': ['8,00 €','47,00 €'],'Gesamtpreis': ['40,00 €','470,00 €']}  \n",
        "  \n",
        "# Create DataFrame  \n",
        "df2 = pd.DataFrame(data)  \n",
        "  \n",
        "# Print the output.  \n",
        "df2  "
      ],
      "metadata": {
        "colab": {
          "base_uri": "https://localhost:8080/",
          "height": 112
        },
        "id": "1GSJfbNLlPyM",
        "outputId": "0140ec22-74a3-41f8-be17-efb0897d8d30"
      },
      "execution_count": null,
      "outputs": [
        {
          "output_type": "execute_result",
          "data": {
            "text/plain": [
              "           Beschreibung      Menge Einzelpreis Gesamtpreis\n",
              "0  Backstein 30x10x10cm   5,00 Stk      8,00 €     40,00 €\n",
              "1  Dämmwolle 80x50x10cm  10,00 Stk     47,00 €    470,00 €"
            ],
            "text/html": [
              "\n",
              "  <div id=\"df-073a729f-199d-4b5e-91e1-5f2b56a6fa77\">\n",
              "    <div class=\"colab-df-container\">\n",
              "      <div>\n",
              "<style scoped>\n",
              "    .dataframe tbody tr th:only-of-type {\n",
              "        vertical-align: middle;\n",
              "    }\n",
              "\n",
              "    .dataframe tbody tr th {\n",
              "        vertical-align: top;\n",
              "    }\n",
              "\n",
              "    .dataframe thead th {\n",
              "        text-align: right;\n",
              "    }\n",
              "</style>\n",
              "<table border=\"1\" class=\"dataframe\">\n",
              "  <thead>\n",
              "    <tr style=\"text-align: right;\">\n",
              "      <th></th>\n",
              "      <th>Beschreibung</th>\n",
              "      <th>Menge</th>\n",
              "      <th>Einzelpreis</th>\n",
              "      <th>Gesamtpreis</th>\n",
              "    </tr>\n",
              "  </thead>\n",
              "  <tbody>\n",
              "    <tr>\n",
              "      <th>0</th>\n",
              "      <td>Backstein 30x10x10cm</td>\n",
              "      <td>5,00 Stk</td>\n",
              "      <td>8,00 €</td>\n",
              "      <td>40,00 €</td>\n",
              "    </tr>\n",
              "    <tr>\n",
              "      <th>1</th>\n",
              "      <td>Dämmwolle 80x50x10cm</td>\n",
              "      <td>10,00 Stk</td>\n",
              "      <td>47,00 €</td>\n",
              "      <td>470,00 €</td>\n",
              "    </tr>\n",
              "  </tbody>\n",
              "</table>\n",
              "</div>\n",
              "      <button class=\"colab-df-convert\" onclick=\"convertToInteractive('df-073a729f-199d-4b5e-91e1-5f2b56a6fa77')\"\n",
              "              title=\"Convert this dataframe to an interactive table.\"\n",
              "              style=\"display:none;\">\n",
              "        \n",
              "  <svg xmlns=\"http://www.w3.org/2000/svg\" height=\"24px\"viewBox=\"0 0 24 24\"\n",
              "       width=\"24px\">\n",
              "    <path d=\"M0 0h24v24H0V0z\" fill=\"none\"/>\n",
              "    <path d=\"M18.56 5.44l.94 2.06.94-2.06 2.06-.94-2.06-.94-.94-2.06-.94 2.06-2.06.94zm-11 1L8.5 8.5l.94-2.06 2.06-.94-2.06-.94L8.5 2.5l-.94 2.06-2.06.94zm10 10l.94 2.06.94-2.06 2.06-.94-2.06-.94-.94-2.06-.94 2.06-2.06.94z\"/><path d=\"M17.41 7.96l-1.37-1.37c-.4-.4-.92-.59-1.43-.59-.52 0-1.04.2-1.43.59L10.3 9.45l-7.72 7.72c-.78.78-.78 2.05 0 2.83L4 21.41c.39.39.9.59 1.41.59.51 0 1.02-.2 1.41-.59l7.78-7.78 2.81-2.81c.8-.78.8-2.07 0-2.86zM5.41 20L4 18.59l7.72-7.72 1.47 1.35L5.41 20z\"/>\n",
              "  </svg>\n",
              "      </button>\n",
              "      \n",
              "  <style>\n",
              "    .colab-df-container {\n",
              "      display:flex;\n",
              "      flex-wrap:wrap;\n",
              "      gap: 12px;\n",
              "    }\n",
              "\n",
              "    .colab-df-convert {\n",
              "      background-color: #E8F0FE;\n",
              "      border: none;\n",
              "      border-radius: 50%;\n",
              "      cursor: pointer;\n",
              "      display: none;\n",
              "      fill: #1967D2;\n",
              "      height: 32px;\n",
              "      padding: 0 0 0 0;\n",
              "      width: 32px;\n",
              "    }\n",
              "\n",
              "    .colab-df-convert:hover {\n",
              "      background-color: #E2EBFA;\n",
              "      box-shadow: 0px 1px 2px rgba(60, 64, 67, 0.3), 0px 1px 3px 1px rgba(60, 64, 67, 0.15);\n",
              "      fill: #174EA6;\n",
              "    }\n",
              "\n",
              "    [theme=dark] .colab-df-convert {\n",
              "      background-color: #3B4455;\n",
              "      fill: #D2E3FC;\n",
              "    }\n",
              "\n",
              "    [theme=dark] .colab-df-convert:hover {\n",
              "      background-color: #434B5C;\n",
              "      box-shadow: 0px 1px 3px 1px rgba(0, 0, 0, 0.15);\n",
              "      filter: drop-shadow(0px 1px 2px rgba(0, 0, 0, 0.3));\n",
              "      fill: #FFFFFF;\n",
              "    }\n",
              "  </style>\n",
              "\n",
              "      <script>\n",
              "        const buttonEl =\n",
              "          document.querySelector('#df-073a729f-199d-4b5e-91e1-5f2b56a6fa77 button.colab-df-convert');\n",
              "        buttonEl.style.display =\n",
              "          google.colab.kernel.accessAllowed ? 'block' : 'none';\n",
              "\n",
              "        async function convertToInteractive(key) {\n",
              "          const element = document.querySelector('#df-073a729f-199d-4b5e-91e1-5f2b56a6fa77');\n",
              "          const dataTable =\n",
              "            await google.colab.kernel.invokeFunction('convertToInteractive',\n",
              "                                                     [key], {});\n",
              "          if (!dataTable) return;\n",
              "\n",
              "          const docLinkHtml = 'Like what you see? Visit the ' +\n",
              "            '<a target=\"_blank\" href=https://colab.research.google.com/notebooks/data_table.ipynb>data table notebook</a>'\n",
              "            + ' to learn more about interactive tables.';\n",
              "          element.innerHTML = '';\n",
              "          dataTable['output_type'] = 'display_data';\n",
              "          await google.colab.output.renderOutput(dataTable, element);\n",
              "          const docLink = document.createElement('div');\n",
              "          docLink.innerHTML = docLinkHtml;\n",
              "          element.appendChild(docLink);\n",
              "        }\n",
              "      </script>\n",
              "    </div>\n",
              "  </div>\n",
              "  "
            ]
          },
          "metadata": {},
          "execution_count": 141
        }
      ]
    },
    {
      "cell_type": "markdown",
      "source": [
        "Wir überprüfen jetzt die beiden Dataframes um zuschauen ob sie identisch sind. \n",
        "Eigentlich sollten wir aufgrund der OCR Fehler mit Fuzzy Matching arbeiten, damit Elemente wie z.B ein \"O\" dass mit einer Null verwechselt wird, nicht zu einer Warnmeldung führen. Der Einfachheit halber arbeiten wir aber hier mit Exact Matching. "
      ],
      "metadata": {
        "id": "RQU3dNNKpjX7"
      }
    },
    {
      "cell_type": "code",
      "source": [
        "df_diff = pd.concat([df,df2])\n",
        "df_diff = df_diff.drop_duplicates(subset=None, keep=False, inplace=False, ignore_index=False)\n",
        "\n",
        "if df_diff.empty:\n",
        "  print(\"Angaben identisch\")\n",
        "else:\n",
        "  print(\"Angaben nicht identsch, Bitte manuell überprüfen\")"
      ],
      "metadata": {
        "colab": {
          "base_uri": "https://localhost:8080/"
        },
        "id": "eD3tUJymoo9L",
        "outputId": "8ab0d2fc-1566-481f-f400-bb79566cabd0"
      },
      "execution_count": null,
      "outputs": [
        {
          "output_type": "stream",
          "name": "stdout",
          "text": [
            "Anhaben nicht identsch, Bitte manuell überprüfen\n"
          ]
        }
      ]
    },
    {
      "cell_type": "code",
      "source": [
        "df_diff"
      ],
      "metadata": {
        "colab": {
          "base_uri": "https://localhost:8080/",
          "height": 175
        },
        "id": "bZ-tGCMqeVQA",
        "outputId": "16d424f8-d101-454f-b0e6-c370f9bcfb8d"
      },
      "execution_count": null,
      "outputs": [
        {
          "output_type": "execute_result",
          "data": {
            "text/plain": [
              "            Beschreibung      Menge Einzelpreis Gesamtpreis\n",
              "0  Backstein 3Oxl0xlO cm   5,00 Stk      8,00 €     40,00 €\n",
              "1  Dämmwolle 8Ox50x10 cm  10,00 Stk     47,00 €    470,00 €\n",
              "0   Backstein 30x10x10cm   5,00 Stk      8,00 €     40,00 €\n",
              "1   Dämmwolle 80x50x10cm  10,00 Stk     47,00 €    470,00 €"
            ],
            "text/html": [
              "\n",
              "  <div id=\"df-79acef00-832d-4a57-90ae-d3718533f630\">\n",
              "    <div class=\"colab-df-container\">\n",
              "      <div>\n",
              "<style scoped>\n",
              "    .dataframe tbody tr th:only-of-type {\n",
              "        vertical-align: middle;\n",
              "    }\n",
              "\n",
              "    .dataframe tbody tr th {\n",
              "        vertical-align: top;\n",
              "    }\n",
              "\n",
              "    .dataframe thead th {\n",
              "        text-align: right;\n",
              "    }\n",
              "</style>\n",
              "<table border=\"1\" class=\"dataframe\">\n",
              "  <thead>\n",
              "    <tr style=\"text-align: right;\">\n",
              "      <th></th>\n",
              "      <th>Beschreibung</th>\n",
              "      <th>Menge</th>\n",
              "      <th>Einzelpreis</th>\n",
              "      <th>Gesamtpreis</th>\n",
              "    </tr>\n",
              "  </thead>\n",
              "  <tbody>\n",
              "    <tr>\n",
              "      <th>0</th>\n",
              "      <td>Backstein 3Oxl0xlO cm</td>\n",
              "      <td>5,00 Stk</td>\n",
              "      <td>8,00 €</td>\n",
              "      <td>40,00 €</td>\n",
              "    </tr>\n",
              "    <tr>\n",
              "      <th>1</th>\n",
              "      <td>Dämmwolle 8Ox50x10 cm</td>\n",
              "      <td>10,00 Stk</td>\n",
              "      <td>47,00 €</td>\n",
              "      <td>470,00 €</td>\n",
              "    </tr>\n",
              "    <tr>\n",
              "      <th>0</th>\n",
              "      <td>Backstein 30x10x10cm</td>\n",
              "      <td>5,00 Stk</td>\n",
              "      <td>8,00 €</td>\n",
              "      <td>40,00 €</td>\n",
              "    </tr>\n",
              "    <tr>\n",
              "      <th>1</th>\n",
              "      <td>Dämmwolle 80x50x10cm</td>\n",
              "      <td>10,00 Stk</td>\n",
              "      <td>47,00 €</td>\n",
              "      <td>470,00 €</td>\n",
              "    </tr>\n",
              "  </tbody>\n",
              "</table>\n",
              "</div>\n",
              "      <button class=\"colab-df-convert\" onclick=\"convertToInteractive('df-79acef00-832d-4a57-90ae-d3718533f630')\"\n",
              "              title=\"Convert this dataframe to an interactive table.\"\n",
              "              style=\"display:none;\">\n",
              "        \n",
              "  <svg xmlns=\"http://www.w3.org/2000/svg\" height=\"24px\"viewBox=\"0 0 24 24\"\n",
              "       width=\"24px\">\n",
              "    <path d=\"M0 0h24v24H0V0z\" fill=\"none\"/>\n",
              "    <path d=\"M18.56 5.44l.94 2.06.94-2.06 2.06-.94-2.06-.94-.94-2.06-.94 2.06-2.06.94zm-11 1L8.5 8.5l.94-2.06 2.06-.94-2.06-.94L8.5 2.5l-.94 2.06-2.06.94zm10 10l.94 2.06.94-2.06 2.06-.94-2.06-.94-.94-2.06-.94 2.06-2.06.94z\"/><path d=\"M17.41 7.96l-1.37-1.37c-.4-.4-.92-.59-1.43-.59-.52 0-1.04.2-1.43.59L10.3 9.45l-7.72 7.72c-.78.78-.78 2.05 0 2.83L4 21.41c.39.39.9.59 1.41.59.51 0 1.02-.2 1.41-.59l7.78-7.78 2.81-2.81c.8-.78.8-2.07 0-2.86zM5.41 20L4 18.59l7.72-7.72 1.47 1.35L5.41 20z\"/>\n",
              "  </svg>\n",
              "      </button>\n",
              "      \n",
              "  <style>\n",
              "    .colab-df-container {\n",
              "      display:flex;\n",
              "      flex-wrap:wrap;\n",
              "      gap: 12px;\n",
              "    }\n",
              "\n",
              "    .colab-df-convert {\n",
              "      background-color: #E8F0FE;\n",
              "      border: none;\n",
              "      border-radius: 50%;\n",
              "      cursor: pointer;\n",
              "      display: none;\n",
              "      fill: #1967D2;\n",
              "      height: 32px;\n",
              "      padding: 0 0 0 0;\n",
              "      width: 32px;\n",
              "    }\n",
              "\n",
              "    .colab-df-convert:hover {\n",
              "      background-color: #E2EBFA;\n",
              "      box-shadow: 0px 1px 2px rgba(60, 64, 67, 0.3), 0px 1px 3px 1px rgba(60, 64, 67, 0.15);\n",
              "      fill: #174EA6;\n",
              "    }\n",
              "\n",
              "    [theme=dark] .colab-df-convert {\n",
              "      background-color: #3B4455;\n",
              "      fill: #D2E3FC;\n",
              "    }\n",
              "\n",
              "    [theme=dark] .colab-df-convert:hover {\n",
              "      background-color: #434B5C;\n",
              "      box-shadow: 0px 1px 3px 1px rgba(0, 0, 0, 0.15);\n",
              "      filter: drop-shadow(0px 1px 2px rgba(0, 0, 0, 0.3));\n",
              "      fill: #FFFFFF;\n",
              "    }\n",
              "  </style>\n",
              "\n",
              "      <script>\n",
              "        const buttonEl =\n",
              "          document.querySelector('#df-79acef00-832d-4a57-90ae-d3718533f630 button.colab-df-convert');\n",
              "        buttonEl.style.display =\n",
              "          google.colab.kernel.accessAllowed ? 'block' : 'none';\n",
              "\n",
              "        async function convertToInteractive(key) {\n",
              "          const element = document.querySelector('#df-79acef00-832d-4a57-90ae-d3718533f630');\n",
              "          const dataTable =\n",
              "            await google.colab.kernel.invokeFunction('convertToInteractive',\n",
              "                                                     [key], {});\n",
              "          if (!dataTable) return;\n",
              "\n",
              "          const docLinkHtml = 'Like what you see? Visit the ' +\n",
              "            '<a target=\"_blank\" href=https://colab.research.google.com/notebooks/data_table.ipynb>data table notebook</a>'\n",
              "            + ' to learn more about interactive tables.';\n",
              "          element.innerHTML = '';\n",
              "          dataTable['output_type'] = 'display_data';\n",
              "          await google.colab.output.renderOutput(dataTable, element);\n",
              "          const docLink = document.createElement('div');\n",
              "          docLink.innerHTML = docLinkHtml;\n",
              "          element.appendChild(docLink);\n",
              "        }\n",
              "      </script>\n",
              "    </div>\n",
              "  </div>\n",
              "  "
            ]
          },
          "metadata": {},
          "execution_count": 127
        }
      ]
    },
    {
      "cell_type": "markdown",
      "source": [
        "Wir versuchen es auch für ein Szenario wo die beiden Tabellen genau übereinstimmen."
      ],
      "metadata": {
        "id": "nL-uNNp95umu"
      }
    },
    {
      "cell_type": "code",
      "source": [
        "# assign data of lists.  \n",
        "data1 = {'Beschreibung': ['Backstein 3Oxl0xlO cm', 'Dämmwolle 8Ox50x10 cm'], 'Menge': ['5,00 Stk','10,00 Stk'], 'Einzelpreis': ['8,00 €','47,00 €'],'Gesamtpreis': ['40,00 €','470,00 €']}  \n",
        "  \n",
        "# Create DataFrame  \n",
        "df3 = pd.DataFrame(data1)  \n",
        "  \n",
        "# Print the output.  \n",
        "df3"
      ],
      "metadata": {
        "colab": {
          "base_uri": "https://localhost:8080/",
          "height": 112
        },
        "id": "QcQkah1n51D4",
        "outputId": "97371c46-1e40-4369-f09f-6da361f4ab56"
      },
      "execution_count": null,
      "outputs": [
        {
          "output_type": "execute_result",
          "data": {
            "text/plain": [
              "            Beschreibung      Menge Einzelpreis Gesamtpreis\n",
              "0  Backstein 3Oxl0xlO cm   5,00 Stk      8,00 €     40,00 €\n",
              "1  Dämmwolle 8Ox50x10 cm  10,00 Stk     47,00 €    470,00 €"
            ],
            "text/html": [
              "\n",
              "  <div id=\"df-ed14088e-847d-46f2-870d-674155b751f8\">\n",
              "    <div class=\"colab-df-container\">\n",
              "      <div>\n",
              "<style scoped>\n",
              "    .dataframe tbody tr th:only-of-type {\n",
              "        vertical-align: middle;\n",
              "    }\n",
              "\n",
              "    .dataframe tbody tr th {\n",
              "        vertical-align: top;\n",
              "    }\n",
              "\n",
              "    .dataframe thead th {\n",
              "        text-align: right;\n",
              "    }\n",
              "</style>\n",
              "<table border=\"1\" class=\"dataframe\">\n",
              "  <thead>\n",
              "    <tr style=\"text-align: right;\">\n",
              "      <th></th>\n",
              "      <th>Beschreibung</th>\n",
              "      <th>Menge</th>\n",
              "      <th>Einzelpreis</th>\n",
              "      <th>Gesamtpreis</th>\n",
              "    </tr>\n",
              "  </thead>\n",
              "  <tbody>\n",
              "    <tr>\n",
              "      <th>0</th>\n",
              "      <td>Backstein 3Oxl0xlO cm</td>\n",
              "      <td>5,00 Stk</td>\n",
              "      <td>8,00 €</td>\n",
              "      <td>40,00 €</td>\n",
              "    </tr>\n",
              "    <tr>\n",
              "      <th>1</th>\n",
              "      <td>Dämmwolle 8Ox50x10 cm</td>\n",
              "      <td>10,00 Stk</td>\n",
              "      <td>47,00 €</td>\n",
              "      <td>470,00 €</td>\n",
              "    </tr>\n",
              "  </tbody>\n",
              "</table>\n",
              "</div>\n",
              "      <button class=\"colab-df-convert\" onclick=\"convertToInteractive('df-ed14088e-847d-46f2-870d-674155b751f8')\"\n",
              "              title=\"Convert this dataframe to an interactive table.\"\n",
              "              style=\"display:none;\">\n",
              "        \n",
              "  <svg xmlns=\"http://www.w3.org/2000/svg\" height=\"24px\"viewBox=\"0 0 24 24\"\n",
              "       width=\"24px\">\n",
              "    <path d=\"M0 0h24v24H0V0z\" fill=\"none\"/>\n",
              "    <path d=\"M18.56 5.44l.94 2.06.94-2.06 2.06-.94-2.06-.94-.94-2.06-.94 2.06-2.06.94zm-11 1L8.5 8.5l.94-2.06 2.06-.94-2.06-.94L8.5 2.5l-.94 2.06-2.06.94zm10 10l.94 2.06.94-2.06 2.06-.94-2.06-.94-.94-2.06-.94 2.06-2.06.94z\"/><path d=\"M17.41 7.96l-1.37-1.37c-.4-.4-.92-.59-1.43-.59-.52 0-1.04.2-1.43.59L10.3 9.45l-7.72 7.72c-.78.78-.78 2.05 0 2.83L4 21.41c.39.39.9.59 1.41.59.51 0 1.02-.2 1.41-.59l7.78-7.78 2.81-2.81c.8-.78.8-2.07 0-2.86zM5.41 20L4 18.59l7.72-7.72 1.47 1.35L5.41 20z\"/>\n",
              "  </svg>\n",
              "      </button>\n",
              "      \n",
              "  <style>\n",
              "    .colab-df-container {\n",
              "      display:flex;\n",
              "      flex-wrap:wrap;\n",
              "      gap: 12px;\n",
              "    }\n",
              "\n",
              "    .colab-df-convert {\n",
              "      background-color: #E8F0FE;\n",
              "      border: none;\n",
              "      border-radius: 50%;\n",
              "      cursor: pointer;\n",
              "      display: none;\n",
              "      fill: #1967D2;\n",
              "      height: 32px;\n",
              "      padding: 0 0 0 0;\n",
              "      width: 32px;\n",
              "    }\n",
              "\n",
              "    .colab-df-convert:hover {\n",
              "      background-color: #E2EBFA;\n",
              "      box-shadow: 0px 1px 2px rgba(60, 64, 67, 0.3), 0px 1px 3px 1px rgba(60, 64, 67, 0.15);\n",
              "      fill: #174EA6;\n",
              "    }\n",
              "\n",
              "    [theme=dark] .colab-df-convert {\n",
              "      background-color: #3B4455;\n",
              "      fill: #D2E3FC;\n",
              "    }\n",
              "\n",
              "    [theme=dark] .colab-df-convert:hover {\n",
              "      background-color: #434B5C;\n",
              "      box-shadow: 0px 1px 3px 1px rgba(0, 0, 0, 0.15);\n",
              "      filter: drop-shadow(0px 1px 2px rgba(0, 0, 0, 0.3));\n",
              "      fill: #FFFFFF;\n",
              "    }\n",
              "  </style>\n",
              "\n",
              "      <script>\n",
              "        const buttonEl =\n",
              "          document.querySelector('#df-ed14088e-847d-46f2-870d-674155b751f8 button.colab-df-convert');\n",
              "        buttonEl.style.display =\n",
              "          google.colab.kernel.accessAllowed ? 'block' : 'none';\n",
              "\n",
              "        async function convertToInteractive(key) {\n",
              "          const element = document.querySelector('#df-ed14088e-847d-46f2-870d-674155b751f8');\n",
              "          const dataTable =\n",
              "            await google.colab.kernel.invokeFunction('convertToInteractive',\n",
              "                                                     [key], {});\n",
              "          if (!dataTable) return;\n",
              "\n",
              "          const docLinkHtml = 'Like what you see? Visit the ' +\n",
              "            '<a target=\"_blank\" href=https://colab.research.google.com/notebooks/data_table.ipynb>data table notebook</a>'\n",
              "            + ' to learn more about interactive tables.';\n",
              "          element.innerHTML = '';\n",
              "          dataTable['output_type'] = 'display_data';\n",
              "          await google.colab.output.renderOutput(dataTable, element);\n",
              "          const docLink = document.createElement('div');\n",
              "          docLink.innerHTML = docLinkHtml;\n",
              "          element.appendChild(docLink);\n",
              "        }\n",
              "      </script>\n",
              "    </div>\n",
              "  </div>\n",
              "  "
            ]
          },
          "metadata": {},
          "execution_count": 115
        }
      ]
    },
    {
      "cell_type": "code",
      "source": [
        "df_diff"
      ],
      "metadata": {
        "colab": {
          "base_uri": "https://localhost:8080/",
          "height": 175
        },
        "id": "uSdEm33mJrYu",
        "outputId": "702fd667-25ee-4c04-db2e-5c40e0ee0aad"
      },
      "execution_count": null,
      "outputs": [
        {
          "output_type": "execute_result",
          "data": {
            "text/plain": [
              "            Beschreibung      Menge Einzelpreis Gesamtpreis\n",
              "0  Backstein 3Oxl0xlO cm   5,00 Stk      8,00 €     40,00 €\n",
              "1  Dämmwolle 8Ox50x10 cm  10,00 Stk     47,00 €    470,00 €\n",
              "0   Backstein 30x10x10cm   5,00 Stk      8,00 €     40,00 €\n",
              "1   Dämmwolle 80x50x10cm  10,00 Stk     47,00 €    470,00 €"
            ],
            "text/html": [
              "\n",
              "  <div id=\"df-567bbaa8-b655-4e4e-a4fb-6b0760070d3e\">\n",
              "    <div class=\"colab-df-container\">\n",
              "      <div>\n",
              "<style scoped>\n",
              "    .dataframe tbody tr th:only-of-type {\n",
              "        vertical-align: middle;\n",
              "    }\n",
              "\n",
              "    .dataframe tbody tr th {\n",
              "        vertical-align: top;\n",
              "    }\n",
              "\n",
              "    .dataframe thead th {\n",
              "        text-align: right;\n",
              "    }\n",
              "</style>\n",
              "<table border=\"1\" class=\"dataframe\">\n",
              "  <thead>\n",
              "    <tr style=\"text-align: right;\">\n",
              "      <th></th>\n",
              "      <th>Beschreibung</th>\n",
              "      <th>Menge</th>\n",
              "      <th>Einzelpreis</th>\n",
              "      <th>Gesamtpreis</th>\n",
              "    </tr>\n",
              "  </thead>\n",
              "  <tbody>\n",
              "    <tr>\n",
              "      <th>0</th>\n",
              "      <td>Backstein 3Oxl0xlO cm</td>\n",
              "      <td>5,00 Stk</td>\n",
              "      <td>8,00 €</td>\n",
              "      <td>40,00 €</td>\n",
              "    </tr>\n",
              "    <tr>\n",
              "      <th>1</th>\n",
              "      <td>Dämmwolle 8Ox50x10 cm</td>\n",
              "      <td>10,00 Stk</td>\n",
              "      <td>47,00 €</td>\n",
              "      <td>470,00 €</td>\n",
              "    </tr>\n",
              "    <tr>\n",
              "      <th>0</th>\n",
              "      <td>Backstein 30x10x10cm</td>\n",
              "      <td>5,00 Stk</td>\n",
              "      <td>8,00 €</td>\n",
              "      <td>40,00 €</td>\n",
              "    </tr>\n",
              "    <tr>\n",
              "      <th>1</th>\n",
              "      <td>Dämmwolle 80x50x10cm</td>\n",
              "      <td>10,00 Stk</td>\n",
              "      <td>47,00 €</td>\n",
              "      <td>470,00 €</td>\n",
              "    </tr>\n",
              "  </tbody>\n",
              "</table>\n",
              "</div>\n",
              "      <button class=\"colab-df-convert\" onclick=\"convertToInteractive('df-567bbaa8-b655-4e4e-a4fb-6b0760070d3e')\"\n",
              "              title=\"Convert this dataframe to an interactive table.\"\n",
              "              style=\"display:none;\">\n",
              "        \n",
              "  <svg xmlns=\"http://www.w3.org/2000/svg\" height=\"24px\"viewBox=\"0 0 24 24\"\n",
              "       width=\"24px\">\n",
              "    <path d=\"M0 0h24v24H0V0z\" fill=\"none\"/>\n",
              "    <path d=\"M18.56 5.44l.94 2.06.94-2.06 2.06-.94-2.06-.94-.94-2.06-.94 2.06-2.06.94zm-11 1L8.5 8.5l.94-2.06 2.06-.94-2.06-.94L8.5 2.5l-.94 2.06-2.06.94zm10 10l.94 2.06.94-2.06 2.06-.94-2.06-.94-.94-2.06-.94 2.06-2.06.94z\"/><path d=\"M17.41 7.96l-1.37-1.37c-.4-.4-.92-.59-1.43-.59-.52 0-1.04.2-1.43.59L10.3 9.45l-7.72 7.72c-.78.78-.78 2.05 0 2.83L4 21.41c.39.39.9.59 1.41.59.51 0 1.02-.2 1.41-.59l7.78-7.78 2.81-2.81c.8-.78.8-2.07 0-2.86zM5.41 20L4 18.59l7.72-7.72 1.47 1.35L5.41 20z\"/>\n",
              "  </svg>\n",
              "      </button>\n",
              "      \n",
              "  <style>\n",
              "    .colab-df-container {\n",
              "      display:flex;\n",
              "      flex-wrap:wrap;\n",
              "      gap: 12px;\n",
              "    }\n",
              "\n",
              "    .colab-df-convert {\n",
              "      background-color: #E8F0FE;\n",
              "      border: none;\n",
              "      border-radius: 50%;\n",
              "      cursor: pointer;\n",
              "      display: none;\n",
              "      fill: #1967D2;\n",
              "      height: 32px;\n",
              "      padding: 0 0 0 0;\n",
              "      width: 32px;\n",
              "    }\n",
              "\n",
              "    .colab-df-convert:hover {\n",
              "      background-color: #E2EBFA;\n",
              "      box-shadow: 0px 1px 2px rgba(60, 64, 67, 0.3), 0px 1px 3px 1px rgba(60, 64, 67, 0.15);\n",
              "      fill: #174EA6;\n",
              "    }\n",
              "\n",
              "    [theme=dark] .colab-df-convert {\n",
              "      background-color: #3B4455;\n",
              "      fill: #D2E3FC;\n",
              "    }\n",
              "\n",
              "    [theme=dark] .colab-df-convert:hover {\n",
              "      background-color: #434B5C;\n",
              "      box-shadow: 0px 1px 3px 1px rgba(0, 0, 0, 0.15);\n",
              "      filter: drop-shadow(0px 1px 2px rgba(0, 0, 0, 0.3));\n",
              "      fill: #FFFFFF;\n",
              "    }\n",
              "  </style>\n",
              "\n",
              "      <script>\n",
              "        const buttonEl =\n",
              "          document.querySelector('#df-567bbaa8-b655-4e4e-a4fb-6b0760070d3e button.colab-df-convert');\n",
              "        buttonEl.style.display =\n",
              "          google.colab.kernel.accessAllowed ? 'block' : 'none';\n",
              "\n",
              "        async function convertToInteractive(key) {\n",
              "          const element = document.querySelector('#df-567bbaa8-b655-4e4e-a4fb-6b0760070d3e');\n",
              "          const dataTable =\n",
              "            await google.colab.kernel.invokeFunction('convertToInteractive',\n",
              "                                                     [key], {});\n",
              "          if (!dataTable) return;\n",
              "\n",
              "          const docLinkHtml = 'Like what you see? Visit the ' +\n",
              "            '<a target=\"_blank\" href=https://colab.research.google.com/notebooks/data_table.ipynb>data table notebook</a>'\n",
              "            + ' to learn more about interactive tables.';\n",
              "          element.innerHTML = '';\n",
              "          dataTable['output_type'] = 'display_data';\n",
              "          await google.colab.output.renderOutput(dataTable, element);\n",
              "          const docLink = document.createElement('div');\n",
              "          docLink.innerHTML = docLinkHtml;\n",
              "          element.appendChild(docLink);\n",
              "        }\n",
              "      </script>\n",
              "    </div>\n",
              "  </div>\n",
              "  "
            ]
          },
          "metadata": {},
          "execution_count": 116
        }
      ]
    },
    {
      "cell_type": "code",
      "source": [
        "df_diff = pd.concat([df,df3])\n",
        "df_diff = df_diff.drop_duplicates(subset=None, keep=False, inplace=False, ignore_index=False)\n",
        "\n",
        "if df_diff.empty:\n",
        "  print(\"Angaben identisch\")\n",
        "else:\n",
        "  print(\"Angaben nicht identsch, Bitte manuell überprüfen\")"
      ],
      "metadata": {
        "colab": {
          "base_uri": "https://localhost:8080/"
        },
        "id": "lGRLFIYnD7kU",
        "outputId": "661b1cbf-c40d-405a-99eb-ffa004756315"
      },
      "execution_count": null,
      "outputs": [
        {
          "output_type": "stream",
          "name": "stdout",
          "text": [
            "Angaben identisch\n"
          ]
        }
      ]
    },
    {
      "cell_type": "markdown",
      "source": [
        "Dies mal waren die Angaben perfekt identisch und der Algorithmus hat es erkannt."
      ],
      "metadata": {
        "id": "qWiPD4QaK3gY"
      }
    },
    {
      "cell_type": "markdown",
      "source": [
        "**Fehler die noch behoben werden müssen für eine bessere Funktionalität:**\n",
        "\n",
        "*   Fehler des OCR entweder durch ein anderes OCR Paket oder später mit Fuzzy Matching beheben\n",
        "*   Rechnungen die nicht mit der Bezeichnung sondern beispielsweise mit der Menge beginnen. Dies kann aber mit einer IF condition behoben werden\n",
        "*   Es sind manchmal Nummern in der Rechnungen, die wir bisher manuell rausfiltern mussten und die lediglich als Index dienen. Dieses müssten automatisch rausgefiltert und entfernt werden. Ich weiss noch nicht wie. \n",
        "* wenn fehlerhafter OCR Output verwendet werden muss, muss bei dem Abgleich Fuzzy Matching verwendet werden, sonst kommt es zu Fehlermeldungen bei z.B Verwechselungen von einer Null und 0 oder bei Angaben wie der Stückzahl, Leerzeichen oder Verwendung von Eurozeichen\n",
        "\n",
        "* Statisches Programmieren birgt immer Risiken von Ausnahmen auf dir wir nicht vorbereitet sind\n"
      ],
      "metadata": {
        "id": "PNdsV6xyyDP_"
      }
    },
    {
      "cell_type": "markdown",
      "source": [
        "# Fuzzy Matching Ansatz"
      ],
      "metadata": {
        "id": "5oVturwynAM7"
      }
    },
    {
      "cell_type": "markdown",
      "source": [
        "um fehler 4 zu beheben"
      ],
      "metadata": {
        "id": "YXv_Z0YirnH1"
      }
    },
    {
      "cell_type": "code",
      "source": [
        "df_diff = pd.concat([df,df2])\n",
        "df_diff"
      ],
      "metadata": {
        "colab": {
          "base_uri": "https://localhost:8080/",
          "height": 175
        },
        "id": "IuT_tRLxnFIV",
        "outputId": "dcd97f16-9bea-4fe5-c0da-aa1712f1dcc5"
      },
      "execution_count": null,
      "outputs": [
        {
          "output_type": "execute_result",
          "data": {
            "text/plain": [
              "            Beschreibung      Menge Einzelpreis Gesamtpreis\n",
              "0  Backstein 3Oxl0xlO cm   5,00 Stk      8,00 €     40,00 €\n",
              "1  Dämmwolle 8Ox50x10 cm  10,00 Stk     47,00 €    470,00 €\n",
              "0   Backstein 30x10x10cm   5,00 Stk      8,00 €     40,00 €\n",
              "1   Dämmwolle 80x50x10cm  10,00 Stk     47,00 €    470,00 €"
            ],
            "text/html": [
              "\n",
              "  <div id=\"df-01e1cd23-7675-4809-8a7c-fc6f5081fad7\">\n",
              "    <div class=\"colab-df-container\">\n",
              "      <div>\n",
              "<style scoped>\n",
              "    .dataframe tbody tr th:only-of-type {\n",
              "        vertical-align: middle;\n",
              "    }\n",
              "\n",
              "    .dataframe tbody tr th {\n",
              "        vertical-align: top;\n",
              "    }\n",
              "\n",
              "    .dataframe thead th {\n",
              "        text-align: right;\n",
              "    }\n",
              "</style>\n",
              "<table border=\"1\" class=\"dataframe\">\n",
              "  <thead>\n",
              "    <tr style=\"text-align: right;\">\n",
              "      <th></th>\n",
              "      <th>Beschreibung</th>\n",
              "      <th>Menge</th>\n",
              "      <th>Einzelpreis</th>\n",
              "      <th>Gesamtpreis</th>\n",
              "    </tr>\n",
              "  </thead>\n",
              "  <tbody>\n",
              "    <tr>\n",
              "      <th>0</th>\n",
              "      <td>Backstein 3Oxl0xlO cm</td>\n",
              "      <td>5,00 Stk</td>\n",
              "      <td>8,00 €</td>\n",
              "      <td>40,00 €</td>\n",
              "    </tr>\n",
              "    <tr>\n",
              "      <th>1</th>\n",
              "      <td>Dämmwolle 8Ox50x10 cm</td>\n",
              "      <td>10,00 Stk</td>\n",
              "      <td>47,00 €</td>\n",
              "      <td>470,00 €</td>\n",
              "    </tr>\n",
              "    <tr>\n",
              "      <th>0</th>\n",
              "      <td>Backstein 30x10x10cm</td>\n",
              "      <td>5,00 Stk</td>\n",
              "      <td>8,00 €</td>\n",
              "      <td>40,00 €</td>\n",
              "    </tr>\n",
              "    <tr>\n",
              "      <th>1</th>\n",
              "      <td>Dämmwolle 80x50x10cm</td>\n",
              "      <td>10,00 Stk</td>\n",
              "      <td>47,00 €</td>\n",
              "      <td>470,00 €</td>\n",
              "    </tr>\n",
              "  </tbody>\n",
              "</table>\n",
              "</div>\n",
              "      <button class=\"colab-df-convert\" onclick=\"convertToInteractive('df-01e1cd23-7675-4809-8a7c-fc6f5081fad7')\"\n",
              "              title=\"Convert this dataframe to an interactive table.\"\n",
              "              style=\"display:none;\">\n",
              "        \n",
              "  <svg xmlns=\"http://www.w3.org/2000/svg\" height=\"24px\"viewBox=\"0 0 24 24\"\n",
              "       width=\"24px\">\n",
              "    <path d=\"M0 0h24v24H0V0z\" fill=\"none\"/>\n",
              "    <path d=\"M18.56 5.44l.94 2.06.94-2.06 2.06-.94-2.06-.94-.94-2.06-.94 2.06-2.06.94zm-11 1L8.5 8.5l.94-2.06 2.06-.94-2.06-.94L8.5 2.5l-.94 2.06-2.06.94zm10 10l.94 2.06.94-2.06 2.06-.94-2.06-.94-.94-2.06-.94 2.06-2.06.94z\"/><path d=\"M17.41 7.96l-1.37-1.37c-.4-.4-.92-.59-1.43-.59-.52 0-1.04.2-1.43.59L10.3 9.45l-7.72 7.72c-.78.78-.78 2.05 0 2.83L4 21.41c.39.39.9.59 1.41.59.51 0 1.02-.2 1.41-.59l7.78-7.78 2.81-2.81c.8-.78.8-2.07 0-2.86zM5.41 20L4 18.59l7.72-7.72 1.47 1.35L5.41 20z\"/>\n",
              "  </svg>\n",
              "      </button>\n",
              "      \n",
              "  <style>\n",
              "    .colab-df-container {\n",
              "      display:flex;\n",
              "      flex-wrap:wrap;\n",
              "      gap: 12px;\n",
              "    }\n",
              "\n",
              "    .colab-df-convert {\n",
              "      background-color: #E8F0FE;\n",
              "      border: none;\n",
              "      border-radius: 50%;\n",
              "      cursor: pointer;\n",
              "      display: none;\n",
              "      fill: #1967D2;\n",
              "      height: 32px;\n",
              "      padding: 0 0 0 0;\n",
              "      width: 32px;\n",
              "    }\n",
              "\n",
              "    .colab-df-convert:hover {\n",
              "      background-color: #E2EBFA;\n",
              "      box-shadow: 0px 1px 2px rgba(60, 64, 67, 0.3), 0px 1px 3px 1px rgba(60, 64, 67, 0.15);\n",
              "      fill: #174EA6;\n",
              "    }\n",
              "\n",
              "    [theme=dark] .colab-df-convert {\n",
              "      background-color: #3B4455;\n",
              "      fill: #D2E3FC;\n",
              "    }\n",
              "\n",
              "    [theme=dark] .colab-df-convert:hover {\n",
              "      background-color: #434B5C;\n",
              "      box-shadow: 0px 1px 3px 1px rgba(0, 0, 0, 0.15);\n",
              "      filter: drop-shadow(0px 1px 2px rgba(0, 0, 0, 0.3));\n",
              "      fill: #FFFFFF;\n",
              "    }\n",
              "  </style>\n",
              "\n",
              "      <script>\n",
              "        const buttonEl =\n",
              "          document.querySelector('#df-01e1cd23-7675-4809-8a7c-fc6f5081fad7 button.colab-df-convert');\n",
              "        buttonEl.style.display =\n",
              "          google.colab.kernel.accessAllowed ? 'block' : 'none';\n",
              "\n",
              "        async function convertToInteractive(key) {\n",
              "          const element = document.querySelector('#df-01e1cd23-7675-4809-8a7c-fc6f5081fad7');\n",
              "          const dataTable =\n",
              "            await google.colab.kernel.invokeFunction('convertToInteractive',\n",
              "                                                     [key], {});\n",
              "          if (!dataTable) return;\n",
              "\n",
              "          const docLinkHtml = 'Like what you see? Visit the ' +\n",
              "            '<a target=\"_blank\" href=https://colab.research.google.com/notebooks/data_table.ipynb>data table notebook</a>'\n",
              "            + ' to learn more about interactive tables.';\n",
              "          element.innerHTML = '';\n",
              "          dataTable['output_type'] = 'display_data';\n",
              "          await google.colab.output.renderOutput(dataTable, element);\n",
              "          const docLink = document.createElement('div');\n",
              "          docLink.innerHTML = docLinkHtml;\n",
              "          element.appendChild(docLink);\n",
              "        }\n",
              "      </script>\n",
              "    </div>\n",
              "  </div>\n",
              "  "
            ]
          },
          "metadata": {},
          "execution_count": 152
        }
      ]
    },
    {
      "cell_type": "code",
      "source": [
        ""
      ],
      "metadata": {
        "id": "z3EeOJbAprtC"
      },
      "execution_count": null,
      "outputs": []
    },
    {
      "cell_type": "code",
      "source": [
        "def remove_duplicates_inplace(df_diff, groupby=[], similarity_field='', similar_level=85):\n",
        "    def check_simi(d):\n",
        "        dupl_indexes = []\n",
        "        for i in range(len(d.values) - 1):\n",
        "            for j in range(i + 1, len(d.values)):\n",
        "                if fuzz.token_sort_ratio(d.values[i], d.values[j]) >= similar_level:\n",
        "                    dupl_indexes.append(d.index[j])\n",
        "\n",
        "        return dupl_indexes\n",
        "\n",
        "    indexes = df.groupby(groupby)[similarity_field].apply(check_simi)\n",
        "\n",
        "    for index_list in indexes:\n",
        "        df.drop(index_list, inplace=True)"
      ],
      "metadata": {
        "id": "speU9iCfk3yv"
      },
      "execution_count": null,
      "outputs": []
    },
    {
      "cell_type": "code",
      "source": [
        "df_diff = remove_duplicates_inplace(df_diff, groupby=[], similarity_field='Beschreibung')\n",
        "df_diff"
      ],
      "metadata": {
        "colab": {
          "base_uri": "https://localhost:8080/",
          "height": 351
        },
        "id": "6zX3RXjMkpJg",
        "outputId": "a35a4313-2880-49ea-a396-b17b95bce350"
      },
      "execution_count": null,
      "outputs": [
        {
          "output_type": "error",
          "ename": "ValueError",
          "evalue": "ignored",
          "traceback": [
            "\u001b[0;31m---------------------------------------------------------------------------\u001b[0m",
            "\u001b[0;31mValueError\u001b[0m                                Traceback (most recent call last)",
            "\u001b[0;32m<ipython-input-154-0c91b8ae08a8>\u001b[0m in \u001b[0;36m<module>\u001b[0;34m()\u001b[0m\n\u001b[0;32m----> 1\u001b[0;31m \u001b[0mdf_diff\u001b[0m \u001b[0;34m=\u001b[0m \u001b[0mremove_duplicates_inplace\u001b[0m\u001b[0;34m(\u001b[0m\u001b[0mdf_diff\u001b[0m\u001b[0;34m,\u001b[0m \u001b[0mgroupby\u001b[0m\u001b[0;34m=\u001b[0m\u001b[0;34m[\u001b[0m\u001b[0;34m]\u001b[0m\u001b[0;34m,\u001b[0m \u001b[0msimilarity_field\u001b[0m\u001b[0;34m=\u001b[0m\u001b[0;34m'Beschreibung'\u001b[0m\u001b[0;34m)\u001b[0m\u001b[0;34m\u001b[0m\u001b[0;34m\u001b[0m\u001b[0m\n\u001b[0m\u001b[1;32m      2\u001b[0m \u001b[0mdf_diff\u001b[0m\u001b[0;34m\u001b[0m\u001b[0;34m\u001b[0m\u001b[0m\n",
            "\u001b[0;32m<ipython-input-143-e2b6e8ffe9bd>\u001b[0m in \u001b[0;36mremove_duplicates_inplace\u001b[0;34m(df_diff, groupby, similarity_field, similar_level)\u001b[0m\n\u001b[1;32m      9\u001b[0m         \u001b[0;32mreturn\u001b[0m \u001b[0mdupl_indexes\u001b[0m\u001b[0;34m\u001b[0m\u001b[0;34m\u001b[0m\u001b[0m\n\u001b[1;32m     10\u001b[0m \u001b[0;34m\u001b[0m\u001b[0m\n\u001b[0;32m---> 11\u001b[0;31m     \u001b[0mindexes\u001b[0m \u001b[0;34m=\u001b[0m \u001b[0mdf\u001b[0m\u001b[0;34m.\u001b[0m\u001b[0mgroupby\u001b[0m\u001b[0;34m(\u001b[0m\u001b[0mgroupby\u001b[0m\u001b[0;34m)\u001b[0m\u001b[0;34m[\u001b[0m\u001b[0msimilarity_field\u001b[0m\u001b[0;34m]\u001b[0m\u001b[0;34m.\u001b[0m\u001b[0mapply\u001b[0m\u001b[0;34m(\u001b[0m\u001b[0mcheck_simi\u001b[0m\u001b[0;34m)\u001b[0m\u001b[0;34m\u001b[0m\u001b[0;34m\u001b[0m\u001b[0m\n\u001b[0m\u001b[1;32m     12\u001b[0m \u001b[0;34m\u001b[0m\u001b[0m\n\u001b[1;32m     13\u001b[0m     \u001b[0;32mfor\u001b[0m \u001b[0mindex_list\u001b[0m \u001b[0;32min\u001b[0m \u001b[0mindexes\u001b[0m\u001b[0;34m:\u001b[0m\u001b[0;34m\u001b[0m\u001b[0;34m\u001b[0m\u001b[0m\n",
            "\u001b[0;32m/usr/local/lib/python3.7/dist-packages/pandas/core/frame.py\u001b[0m in \u001b[0;36mgroupby\u001b[0;34m(self, by, axis, level, as_index, sort, group_keys, squeeze, observed, dropna)\u001b[0m\n\u001b[1;32m   7639\u001b[0m             \u001b[0msqueeze\u001b[0m\u001b[0;34m=\u001b[0m\u001b[0msqueeze\u001b[0m\u001b[0;34m,\u001b[0m  \u001b[0;31m# type: ignore[arg-type]\u001b[0m\u001b[0;34m\u001b[0m\u001b[0;34m\u001b[0m\u001b[0m\n\u001b[1;32m   7640\u001b[0m             \u001b[0mobserved\u001b[0m\u001b[0;34m=\u001b[0m\u001b[0mobserved\u001b[0m\u001b[0;34m,\u001b[0m\u001b[0;34m\u001b[0m\u001b[0;34m\u001b[0m\u001b[0m\n\u001b[0;32m-> 7641\u001b[0;31m             \u001b[0mdropna\u001b[0m\u001b[0;34m=\u001b[0m\u001b[0mdropna\u001b[0m\u001b[0;34m,\u001b[0m\u001b[0;34m\u001b[0m\u001b[0;34m\u001b[0m\u001b[0m\n\u001b[0m\u001b[1;32m   7642\u001b[0m         )\n\u001b[1;32m   7643\u001b[0m \u001b[0;34m\u001b[0m\u001b[0m\n",
            "\u001b[0;32m/usr/local/lib/python3.7/dist-packages/pandas/core/groupby/groupby.py\u001b[0m in \u001b[0;36m__init__\u001b[0;34m(self, obj, keys, axis, level, grouper, exclusions, selection, as_index, sort, group_keys, squeeze, observed, mutated, dropna)\u001b[0m\n\u001b[1;32m    895\u001b[0m                 \u001b[0mobserved\u001b[0m\u001b[0;34m=\u001b[0m\u001b[0mobserved\u001b[0m\u001b[0;34m,\u001b[0m\u001b[0;34m\u001b[0m\u001b[0;34m\u001b[0m\u001b[0m\n\u001b[1;32m    896\u001b[0m                 \u001b[0mmutated\u001b[0m\u001b[0;34m=\u001b[0m\u001b[0mself\u001b[0m\u001b[0;34m.\u001b[0m\u001b[0mmutated\u001b[0m\u001b[0;34m,\u001b[0m\u001b[0;34m\u001b[0m\u001b[0;34m\u001b[0m\u001b[0m\n\u001b[0;32m--> 897\u001b[0;31m                 \u001b[0mdropna\u001b[0m\u001b[0;34m=\u001b[0m\u001b[0mself\u001b[0m\u001b[0;34m.\u001b[0m\u001b[0mdropna\u001b[0m\u001b[0;34m,\u001b[0m\u001b[0;34m\u001b[0m\u001b[0;34m\u001b[0m\u001b[0m\n\u001b[0m\u001b[1;32m    898\u001b[0m             )\n\u001b[1;32m    899\u001b[0m \u001b[0;34m\u001b[0m\u001b[0m\n",
            "\u001b[0;32m/usr/local/lib/python3.7/dist-packages/pandas/core/groupby/grouper.py\u001b[0m in \u001b[0;36mget_grouper\u001b[0;34m(obj, key, axis, level, sort, observed, mutated, validate, dropna)\u001b[0m\n\u001b[1;32m    894\u001b[0m \u001b[0;34m\u001b[0m\u001b[0m\n\u001b[1;32m    895\u001b[0m     \u001b[0;32mif\u001b[0m \u001b[0mlen\u001b[0m\u001b[0;34m(\u001b[0m\u001b[0mgroupings\u001b[0m\u001b[0;34m)\u001b[0m \u001b[0;34m==\u001b[0m \u001b[0;36m0\u001b[0m \u001b[0;32mand\u001b[0m \u001b[0mlen\u001b[0m\u001b[0;34m(\u001b[0m\u001b[0mobj\u001b[0m\u001b[0;34m)\u001b[0m\u001b[0;34m:\u001b[0m\u001b[0;34m\u001b[0m\u001b[0;34m\u001b[0m\u001b[0m\n\u001b[0;32m--> 896\u001b[0;31m         \u001b[0;32mraise\u001b[0m \u001b[0mValueError\u001b[0m\u001b[0;34m(\u001b[0m\u001b[0;34m\"No group keys passed!\"\u001b[0m\u001b[0;34m)\u001b[0m\u001b[0;34m\u001b[0m\u001b[0;34m\u001b[0m\u001b[0m\n\u001b[0m\u001b[1;32m    897\u001b[0m     \u001b[0;32melif\u001b[0m \u001b[0mlen\u001b[0m\u001b[0;34m(\u001b[0m\u001b[0mgroupings\u001b[0m\u001b[0;34m)\u001b[0m \u001b[0;34m==\u001b[0m \u001b[0;36m0\u001b[0m\u001b[0;34m:\u001b[0m\u001b[0;34m\u001b[0m\u001b[0;34m\u001b[0m\u001b[0m\n\u001b[1;32m    898\u001b[0m         \u001b[0mgroupings\u001b[0m\u001b[0;34m.\u001b[0m\u001b[0mappend\u001b[0m\u001b[0;34m(\u001b[0m\u001b[0mGrouping\u001b[0m\u001b[0;34m(\u001b[0m\u001b[0mIndex\u001b[0m\u001b[0;34m(\u001b[0m\u001b[0;34m[\u001b[0m\u001b[0;34m]\u001b[0m\u001b[0;34m,\u001b[0m \u001b[0mdtype\u001b[0m\u001b[0;34m=\u001b[0m\u001b[0;34m\"int\"\u001b[0m\u001b[0;34m)\u001b[0m\u001b[0;34m,\u001b[0m \u001b[0mnp\u001b[0m\u001b[0;34m.\u001b[0m\u001b[0marray\u001b[0m\u001b[0;34m(\u001b[0m\u001b[0;34m[\u001b[0m\u001b[0;34m]\u001b[0m\u001b[0;34m,\u001b[0m \u001b[0mdtype\u001b[0m\u001b[0;34m=\u001b[0m\u001b[0mnp\u001b[0m\u001b[0;34m.\u001b[0m\u001b[0mintp\u001b[0m\u001b[0;34m)\u001b[0m\u001b[0;34m)\u001b[0m\u001b[0;34m)\u001b[0m\u001b[0;34m\u001b[0m\u001b[0;34m\u001b[0m\u001b[0m\n",
            "\u001b[0;31mValueError\u001b[0m: No group keys passed!"
          ]
        }
      ]
    },
    {
      "cell_type": "code",
      "source": [
        "df_diff"
      ],
      "metadata": {
        "id": "6KaC-vCunniF"
      },
      "execution_count": null,
      "outputs": []
    },
    {
      "cell_type": "markdown",
      "source": [
        "# Inhaltliche Klärung"
      ],
      "metadata": {
        "id": "2C4xT8H4x4QT"
      }
    },
    {
      "cell_type": "code",
      "source": [
        "Hier könntest du weitermachen Lukas"
      ],
      "metadata": {
        "id": "I75gmMJQv_Xc"
      },
      "execution_count": null,
      "outputs": []
    }
  ]
}